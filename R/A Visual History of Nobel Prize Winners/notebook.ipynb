{
 "cells": [
  {
   "cell_type": "markdown",
   "metadata": {
    "dc": {
     "key": "4"
    },
    "deletable": false,
    "editable": false,
    "run_control": {
     "frozen": true
    },
    "tags": [
     "context"
    ]
   },
   "source": [
    "## 1. The most Nobel of Prizes\n",
    "<p><img style=\"float: right;margin:5px 20px 5px 1px; max-width:250px\" src=\"https://assets.datacamp.com/production/project_309/img/Nobel_Prize.png\"></p>\n",
    "<p>The Nobel Prize is perhaps the worlds most well known scientific award. Except for the honor, prestige and substantial prize money the recipient also gets a gold medal showing Alfred Nobel (1833 - 1896) who established the prize. Every year it's given to scientists and scholars in the categories chemistry, literature, physics, physiology or medicine, economics, and peace. The first Nobel Prize was handed out in 1901, and at that time the Prize was very Eurocentric and male-focused, but nowadays it's not biased in any way whatsoever. Surely. Right?</p>\n",
    "<p>Well, we're going to find out! The Nobel Foundation has made a dataset available of all prize winners from the start of the prize, in 1901, to 2016. Let's load it in and take a look.</p>"
   ]
  },
  {
   "cell_type": "code",
   "execution_count": 1,
   "metadata": {
    "dc": {
     "key": "4"
    },
    "tags": [
     "sample_code"
    ]
   },
   "outputs": [
    {
     "name": "stderr",
     "output_type": "stream",
     "text": [
      "-- Attaching packages --------------------------------------- tidyverse 1.2.1 --\n",
      "v ggplot2 3.2.1     v purrr   0.3.3\n",
      "v tibble  2.1.3     v dplyr   0.8.3\n",
      "v tidyr   1.0.0     v stringr 1.4.0\n",
      "v readr   1.3.1     v forcats 0.4.0\n",
      "Warning message:\n",
      "\"package 'purrr' was built under R version 3.6.2\"-- Conflicts ------------------------------------------ tidyverse_conflicts() --\n",
      "x dplyr::filter() masks stats::filter()\n",
      "x dplyr::lag()    masks stats::lag()\n",
      "Parsed with column specification:\n",
      "cols(\n",
      "  year = col_double(),\n",
      "  category = col_character(),\n",
      "  prize = col_character(),\n",
      "  motivation = col_character(),\n",
      "  prize_share = col_character(),\n",
      "  laureate_id = col_double(),\n",
      "  laureate_type = col_character(),\n",
      "  full_name = col_character(),\n",
      "  birth_date = col_date(format = \"\"),\n",
      "  birth_city = col_character(),\n",
      "  birth_country = col_character(),\n",
      "  sex = col_character(),\n",
      "  organization_name = col_character(),\n",
      "  organization_city = col_character(),\n",
      "  organization_country = col_character(),\n",
      "  death_date = col_date(format = \"\"),\n",
      "  death_city = col_character(),\n",
      "  death_country = col_character()\n",
      ")\n"
     ]
    },
    {
     "data": {
      "text/html": [
       "<table>\n",
       "<thead><tr><th scope=col>year</th><th scope=col>category</th><th scope=col>prize</th><th scope=col>motivation</th><th scope=col>prize_share</th><th scope=col>laureate_id</th><th scope=col>laureate_type</th><th scope=col>full_name</th><th scope=col>birth_date</th><th scope=col>birth_city</th><th scope=col>birth_country</th><th scope=col>sex</th><th scope=col>organization_name</th><th scope=col>organization_city</th><th scope=col>organization_country</th><th scope=col>death_date</th><th scope=col>death_city</th><th scope=col>death_country</th></tr></thead>\n",
       "<tbody>\n",
       "\t<tr><td>1901                                                                                                                                                                               </td><td>Chemistry                                                                                                                                                                          </td><td>The Nobel Prize in Chemistry 1901                                                                                                                                                  </td><td>\"in recognition of the extraordinary services he has rendered by the discovery of the laws of chemical dynamics and osmotic pressure in solutions\"                                 </td><td>1/1                                                                                                                                                                                </td><td>160                                                                                                                                                                                </td><td>Individual                                                                                                                                                                         </td><td>Jacobus Henricus van 't Hoff                                                                                                                                                       </td><td>1852-08-30                                                                                                                                                                         </td><td>Rotterdam                                                                                                                                                                          </td><td>Netherlands                                                                                                                                                                        </td><td>Male                                                                                                                                                                               </td><td>Berlin University                                                                                                                                                                  </td><td>Berlin                                                                                                                                                                             </td><td>Germany                                                                                                                                                                            </td><td>1911-03-01                                                                                                                                                                         </td><td>Berlin                                                                                                                                                                             </td><td>Germany                                                                                                                                                                            </td></tr>\n",
       "\t<tr><td>1901                                                                                                                                                                               </td><td>Literature                                                                                                                                                                         </td><td>The Nobel Prize in Literature 1901                                                                                                                                                 </td><td>\"in special recognition of his poetic composition, which gives evidence of lofty idealism, artistic perfection and a rare combination of the qualities of both heart and intellect\"</td><td>1/1                                                                                                                                                                                </td><td>569                                                                                                                                                                                </td><td>Individual                                                                                                                                                                         </td><td>Sully Prudhomme                                                                                                                                                                    </td><td>1839-03-16                                                                                                                                                                         </td><td>Paris                                                                                                                                                                              </td><td>France                                                                                                                                                                             </td><td>Male                                                                                                                                                                               </td><td>NA                                                                                                                                                                                 </td><td>NA                                                                                                                                                                                 </td><td>NA                                                                                                                                                                                 </td><td>1907-09-07                                                                                                                                                                         </td><td>Châtenay                                                                                                                                                                           </td><td>France                                                                                                                                                                             </td></tr>\n",
       "</tbody>\n",
       "</table>\n"
      ],
      "text/latex": [
       "\\begin{tabular}{r|llllllllllllllllll}\n",
       " year & category & prize & motivation & prize\\_share & laureate\\_id & laureate\\_type & full\\_name & birth\\_date & birth\\_city & birth\\_country & sex & organization\\_name & organization\\_city & organization\\_country & death\\_date & death\\_city & death\\_country\\\\\n",
       "\\hline\n",
       "\t 1901                                                                                                                                                                                & Chemistry                                                                                                                                                                           & The Nobel Prize in Chemistry 1901                                                                                                                                                   & \"in recognition of the extraordinary services he has rendered by the discovery of the laws of chemical dynamics and osmotic pressure in solutions\"                                  & 1/1                                                                                                                                                                                 & 160                                                                                                                                                                                 & Individual                                                                                                                                                                          & Jacobus Henricus van 't Hoff                                                                                                                                                        & 1852-08-30                                                                                                                                                                          & Rotterdam                                                                                                                                                                           & Netherlands                                                                                                                                                                         & Male                                                                                                                                                                                & Berlin University                                                                                                                                                                   & Berlin                                                                                                                                                                              & Germany                                                                                                                                                                             & 1911-03-01                                                                                                                                                                          & Berlin                                                                                                                                                                              & Germany                                                                                                                                                                            \\\\\n",
       "\t 1901                                                                                                                                                                                & Literature                                                                                                                                                                          & The Nobel Prize in Literature 1901                                                                                                                                                  & \"in special recognition of his poetic composition, which gives evidence of lofty idealism, artistic perfection and a rare combination of the qualities of both heart and intellect\" & 1/1                                                                                                                                                                                 & 569                                                                                                                                                                                 & Individual                                                                                                                                                                          & Sully Prudhomme                                                                                                                                                                     & 1839-03-16                                                                                                                                                                          & Paris                                                                                                                                                                               & France                                                                                                                                                                              & Male                                                                                                                                                                                & NA                                                                                                                                                                                  & NA                                                                                                                                                                                  & NA                                                                                                                                                                                  & 1907-09-07                                                                                                                                                                          & Châtenay                                                                                                                                                                            & France                                                                                                                                                                             \\\\\n",
       "\\end{tabular}\n"
      ],
      "text/markdown": [
       "\n",
       "| year | category | prize | motivation | prize_share | laureate_id | laureate_type | full_name | birth_date | birth_city | birth_country | sex | organization_name | organization_city | organization_country | death_date | death_city | death_country |\n",
       "|---|---|---|---|---|---|---|---|---|---|---|---|---|---|---|---|---|---|\n",
       "| 1901                                                                                                                                                                                | Chemistry                                                                                                                                                                           | The Nobel Prize in Chemistry 1901                                                                                                                                                   | \"in recognition of the extraordinary services he has rendered by the discovery of the laws of chemical dynamics and osmotic pressure in solutions\"                                  | 1/1                                                                                                                                                                                 | 160                                                                                                                                                                                 | Individual                                                                                                                                                                          | Jacobus Henricus van 't Hoff                                                                                                                                                        | 1852-08-30                                                                                                                                                                          | Rotterdam                                                                                                                                                                           | Netherlands                                                                                                                                                                         | Male                                                                                                                                                                                | Berlin University                                                                                                                                                                   | Berlin                                                                                                                                                                              | Germany                                                                                                                                                                             | 1911-03-01                                                                                                                                                                          | Berlin                                                                                                                                                                              | Germany                                                                                                                                                                             |\n",
       "| 1901                                                                                                                                                                                | Literature                                                                                                                                                                          | The Nobel Prize in Literature 1901                                                                                                                                                  | \"in special recognition of his poetic composition, which gives evidence of lofty idealism, artistic perfection and a rare combination of the qualities of both heart and intellect\" | 1/1                                                                                                                                                                                 | 569                                                                                                                                                                                 | Individual                                                                                                                                                                          | Sully Prudhomme                                                                                                                                                                     | 1839-03-16                                                                                                                                                                          | Paris                                                                                                                                                                               | France                                                                                                                                                                              | Male                                                                                                                                                                                | NA                                                                                                                                                                                  | NA                                                                                                                                                                                  | NA                                                                                                                                                                                  | 1907-09-07                                                                                                                                                                          | Châtenay                                                                                                                                                                            | France                                                                                                                                                                              |\n",
       "\n"
      ],
      "text/plain": [
       "  year category   prize                             \n",
       "1 1901 Chemistry  The Nobel Prize in Chemistry 1901 \n",
       "2 1901 Literature The Nobel Prize in Literature 1901\n",
       "  motivation                                                                                                                                                                         \n",
       "1 \"in recognition of the extraordinary services he has rendered by the discovery of the laws of chemical dynamics and osmotic pressure in solutions\"                                 \n",
       "2 \"in special recognition of his poetic composition, which gives evidence of lofty idealism, artistic perfection and a rare combination of the qualities of both heart and intellect\"\n",
       "  prize_share laureate_id laureate_type full_name                    birth_date\n",
       "1 1/1         160         Individual    Jacobus Henricus van 't Hoff 1852-08-30\n",
       "2 1/1         569         Individual    Sully Prudhomme              1839-03-16\n",
       "  birth_city birth_country sex  organization_name organization_city\n",
       "1 Rotterdam  Netherlands   Male Berlin University Berlin           \n",
       "2 Paris      France        Male NA                NA               \n",
       "  organization_country death_date death_city death_country\n",
       "1 Germany              1911-03-01 Berlin     Germany      \n",
       "2 NA                   1907-09-07 Châtenay   France       "
      ]
     },
     "metadata": {},
     "output_type": "display_data"
    }
   ],
   "source": [
    "# Loading in required libraries\n",
    "library(tidyverse)\n",
    "\n",
    "# Reading in the Nobel Prize data\n",
    "nobel <- read_csv(\"datasets//nobel.csv\")\n",
    "\n",
    "# Taking a look at the first couple of winners\n",
    "head(nobel,2)"
   ]
  },
  {
   "cell_type": "markdown",
   "metadata": {
    "dc": {
     "key": "11"
    },
    "deletable": false,
    "editable": false,
    "run_control": {
     "frozen": true
    },
    "tags": [
     "context"
    ]
   },
   "source": [
    "## 2. So, who gets the Nobel Prize?\n",
    "<p>Just looking at the first couple of prize winners, or Nobel laureates as they are also called, we already see a celebrity: Wilhelm Conrad Röntgen, the guy who discovered X-rays. And actually, we see that all of the winners in 1901 were guys that came from Europe. But that was back in 1901, looking at all winners in the dataset, from 1901 to 2016, which sex and which country is the most commonly represented? </p>\n",
    "<p>(For <em>country</em>, we will use the <code>birth_country</code> of the winner, as the <code>organization_country</code> is <code>NA</code> for all shared Nobel Prizes.)</p>"
   ]
  },
  {
   "cell_type": "code",
   "execution_count": 2,
   "metadata": {
    "dc": {
     "key": "11"
    },
    "tags": [
     "sample_code"
    ]
   },
   "outputs": [
    {
     "data": {
      "text/html": [
       "<table>\n",
       "<thead><tr><th scope=col>\"prizes\"</th><th scope=col>n</th></tr></thead>\n",
       "<tbody>\n",
       "\t<tr><td>prizes</td><td>911   </td></tr>\n",
       "</tbody>\n",
       "</table>\n"
      ],
      "text/latex": [
       "\\begin{tabular}{r|ll}\n",
       " \"prizes\" & n\\\\\n",
       "\\hline\n",
       "\t prizes & 911   \\\\\n",
       "\\end{tabular}\n"
      ],
      "text/markdown": [
       "\n",
       "| \"prizes\" | n |\n",
       "|---|---|\n",
       "| prizes | 911    |\n",
       "\n"
      ],
      "text/plain": [
       "  \"prizes\" n  \n",
       "1 prizes   911"
      ]
     },
     "metadata": {},
     "output_type": "display_data"
    },
    {
     "data": {
      "text/html": [
       "<table>\n",
       "<thead><tr><th scope=col>sex</th><th scope=col>\"prizes\"</th><th scope=col>n</th></tr></thead>\n",
       "<tbody>\n",
       "\t<tr><td>Female</td><td>prizes</td><td> 49   </td></tr>\n",
       "\t<tr><td>Male  </td><td>prizes</td><td>836   </td></tr>\n",
       "\t<tr><td>NA    </td><td>prizes</td><td> 26   </td></tr>\n",
       "</tbody>\n",
       "</table>\n"
      ],
      "text/latex": [
       "\\begin{tabular}{r|lll}\n",
       " sex & \"prizes\" & n\\\\\n",
       "\\hline\n",
       "\t Female & prizes &  49   \\\\\n",
       "\t Male   & prizes & 836   \\\\\n",
       "\t NA     & prizes &  26   \\\\\n",
       "\\end{tabular}\n"
      ],
      "text/markdown": [
       "\n",
       "| sex | \"prizes\" | n |\n",
       "|---|---|---|\n",
       "| Female | prizes |  49    |\n",
       "| Male   | prizes | 836    |\n",
       "| NA     | prizes |  26    |\n",
       "\n"
      ],
      "text/plain": [
       "  sex    \"prizes\" n  \n",
       "1 Female prizes    49\n",
       "2 Male   prizes   836\n",
       "3 NA     prizes    26"
      ]
     },
     "metadata": {},
     "output_type": "display_data"
    },
    {
     "data": {
      "text/html": [
       "<table>\n",
       "<thead><tr><th scope=col>birth_country</th><th scope=col>\"prizes\"</th><th scope=col>n</th></tr></thead>\n",
       "<tbody>\n",
       "\t<tr><td>United States of America</td><td>prizes                  </td><td>259                     </td></tr>\n",
       "\t<tr><td>United Kingdom          </td><td>prizes                  </td><td> 85                     </td></tr>\n",
       "\t<tr><td>Germany                 </td><td>prizes                  </td><td> 61                     </td></tr>\n",
       "\t<tr><td>France                  </td><td>prizes                  </td><td> 51                     </td></tr>\n",
       "\t<tr><td>Sweden                  </td><td>prizes                  </td><td> 29                     </td></tr>\n",
       "\t<tr><td>NA                      </td><td>prizes                  </td><td> 26                     </td></tr>\n",
       "\t<tr><td>Japan                   </td><td>prizes                  </td><td> 24                     </td></tr>\n",
       "\t<tr><td>Canada                  </td><td>prizes                  </td><td> 18                     </td></tr>\n",
       "\t<tr><td>Netherlands             </td><td>prizes                  </td><td> 18                     </td></tr>\n",
       "\t<tr><td>Italy                   </td><td>prizes                  </td><td> 17                     </td></tr>\n",
       "\t<tr><td>Russia                  </td><td>prizes                  </td><td> 17                     </td></tr>\n",
       "\t<tr><td>Switzerland             </td><td>prizes                  </td><td> 16                     </td></tr>\n",
       "\t<tr><td>Austria                 </td><td>prizes                  </td><td> 14                     </td></tr>\n",
       "\t<tr><td>Norway                  </td><td>prizes                  </td><td> 12                     </td></tr>\n",
       "\t<tr><td>China                   </td><td>prizes                  </td><td> 11                     </td></tr>\n",
       "\t<tr><td>Denmark                 </td><td>prizes                  </td><td> 11                     </td></tr>\n",
       "\t<tr><td>Australia               </td><td>prizes                  </td><td> 10                     </td></tr>\n",
       "\t<tr><td>Belgium                 </td><td>prizes                  </td><td>  9                     </td></tr>\n",
       "\t<tr><td>Scotland                </td><td>prizes                  </td><td>  9                     </td></tr>\n",
       "\t<tr><td>South Africa            </td><td>prizes                  </td><td>  9                     </td></tr>\n",
       "</tbody>\n",
       "</table>\n"
      ],
      "text/latex": [
       "\\begin{tabular}{r|lll}\n",
       " birth\\_country & \"prizes\" & n\\\\\n",
       "\\hline\n",
       "\t United States of America & prizes                   & 259                     \\\\\n",
       "\t United Kingdom           & prizes                   &  85                     \\\\\n",
       "\t Germany                  & prizes                   &  61                     \\\\\n",
       "\t France                   & prizes                   &  51                     \\\\\n",
       "\t Sweden                   & prizes                   &  29                     \\\\\n",
       "\t NA                       & prizes                   &  26                     \\\\\n",
       "\t Japan                    & prizes                   &  24                     \\\\\n",
       "\t Canada                   & prizes                   &  18                     \\\\\n",
       "\t Netherlands              & prizes                   &  18                     \\\\\n",
       "\t Italy                    & prizes                   &  17                     \\\\\n",
       "\t Russia                   & prizes                   &  17                     \\\\\n",
       "\t Switzerland              & prizes                   &  16                     \\\\\n",
       "\t Austria                  & prizes                   &  14                     \\\\\n",
       "\t Norway                   & prizes                   &  12                     \\\\\n",
       "\t China                    & prizes                   &  11                     \\\\\n",
       "\t Denmark                  & prizes                   &  11                     \\\\\n",
       "\t Australia                & prizes                   &  10                     \\\\\n",
       "\t Belgium                  & prizes                   &   9                     \\\\\n",
       "\t Scotland                 & prizes                   &   9                     \\\\\n",
       "\t South Africa             & prizes                   &   9                     \\\\\n",
       "\\end{tabular}\n"
      ],
      "text/markdown": [
       "\n",
       "| birth_country | \"prizes\" | n |\n",
       "|---|---|---|\n",
       "| United States of America | prizes                   | 259                      |\n",
       "| United Kingdom           | prizes                   |  85                      |\n",
       "| Germany                  | prizes                   |  61                      |\n",
       "| France                   | prizes                   |  51                      |\n",
       "| Sweden                   | prizes                   |  29                      |\n",
       "| NA                       | prizes                   |  26                      |\n",
       "| Japan                    | prizes                   |  24                      |\n",
       "| Canada                   | prizes                   |  18                      |\n",
       "| Netherlands              | prizes                   |  18                      |\n",
       "| Italy                    | prizes                   |  17                      |\n",
       "| Russia                   | prizes                   |  17                      |\n",
       "| Switzerland              | prizes                   |  16                      |\n",
       "| Austria                  | prizes                   |  14                      |\n",
       "| Norway                   | prizes                   |  12                      |\n",
       "| China                    | prizes                   |  11                      |\n",
       "| Denmark                  | prizes                   |  11                      |\n",
       "| Australia                | prizes                   |  10                      |\n",
       "| Belgium                  | prizes                   |   9                      |\n",
       "| Scotland                 | prizes                   |   9                      |\n",
       "| South Africa             | prizes                   |   9                      |\n",
       "\n"
      ],
      "text/plain": [
       "   birth_country            \"prizes\" n  \n",
       "1  United States of America prizes   259\n",
       "2  United Kingdom           prizes    85\n",
       "3  Germany                  prizes    61\n",
       "4  France                   prizes    51\n",
       "5  Sweden                   prizes    29\n",
       "6  NA                       prizes    26\n",
       "7  Japan                    prizes    24\n",
       "8  Canada                   prizes    18\n",
       "9  Netherlands              prizes    18\n",
       "10 Italy                    prizes    17\n",
       "11 Russia                   prizes    17\n",
       "12 Switzerland              prizes    16\n",
       "13 Austria                  prizes    14\n",
       "14 Norway                   prizes    12\n",
       "15 China                    prizes    11\n",
       "16 Denmark                  prizes    11\n",
       "17 Australia                prizes    10\n",
       "18 Belgium                  prizes     9\n",
       "19 Scotland                 prizes     9\n",
       "20 South Africa             prizes     9"
      ]
     },
     "metadata": {},
     "output_type": "display_data"
    }
   ],
   "source": [
    "# Counting the number of (possibly shared) Nobel Prizes handed\n",
    "# out between 1901 and 2016\n",
    "nobel %>% count('prizes')\n",
    "\n",
    "# Counting the number of prizes won by male and female recipients.\n",
    "nobel %>%\n",
    "    group_by(sex) %>%\n",
    "    count('prizes')\n",
    "\n",
    "# # Counting the number of prizes won by different nationalities.\n",
    "nobel %>%\n",
    "    group_by(birth_country) %>%\n",
    "    count('prizes') %>%\n",
    "    arrange(desc(n)) %>%\n",
    "    head(20)"
   ]
  },
  {
   "cell_type": "markdown",
   "metadata": {
    "dc": {
     "key": "18"
    },
    "deletable": false,
    "editable": false,
    "run_control": {
     "frozen": true
    },
    "tags": [
     "context"
    ]
   },
   "source": [
    "## 3. USA dominance\n",
    "<p>Not so surprising perhaps: the most common Nobel laureate between 1901 and 2016 was a man born in the United States of America. But in 1901 all the laureates were European. When did the USA start to dominate the Nobel Prize charts?</p>"
   ]
  },
  {
   "cell_type": "code",
   "execution_count": 3,
   "metadata": {
    "dc": {
     "key": "18"
    },
    "tags": [
     "sample_code"
    ]
   },
   "outputs": [
    {
     "name": "stdout",
     "output_type": "stream",
     "text": [
      "# A tibble: 12 x 2\n",
      "   decade proportion\n",
      "    <dbl>      <dbl>\n",
      " 1   1900     0.0179\n",
      " 2   1910     0.0789\n",
      " 3   1920     0.0741\n",
      " 4   1930     0.255 \n",
      " 5   1940     0.325 \n",
      " 6   1950     0.296 \n",
      " 7   1960     0.28  \n",
      " 8   1970     0.320 \n",
      " 9   1980     0.330 \n",
      "10   1990     0.416 \n",
      "11   2000     0.437 \n",
      "12   2010     0.304 \n"
     ]
    }
   ],
   "source": [
    "# Calculating the proportion of USA born winners per decade\n",
    "prop_usa_winners <- nobel %>% \n",
    "    mutate(usa_born_winner = birth_country == \"United States of America\") %>%\n",
    "    mutate(decade = (year - year %% 10)) %>%\n",
    "    group_by(decade) %>%\n",
    "    summarize(proportion = mean(usa_born_winner, na.rm = TRUE))    \n",
    "\n",
    "# Display the proportions of USA born winners per decade\n",
    "print(prop_usa_winners)"
   ]
  },
  {
   "cell_type": "markdown",
   "metadata": {
    "dc": {
     "key": "25"
    },
    "deletable": false,
    "editable": false,
    "run_control": {
     "frozen": true
    },
    "tags": [
     "context"
    ]
   },
   "source": [
    "## 4. USA dominance, visualized\n",
    "<p>A table is OK, but to <em>see</em> when the USA started to dominate the Nobel charts we need a plot!</p>"
   ]
  },
  {
   "cell_type": "code",
   "execution_count": 4,
   "metadata": {
    "dc": {
     "key": "25"
    },
    "tags": [
     "sample_code"
    ]
   },
   "outputs": [
    {
     "data": {
      "image/png": "[encoded data removed]",
      "text/plain": [
       "plot without title"
      ]
     },
     "metadata": {},
     "output_type": "display_data"
    }
   ],
   "source": [
    "# Setting the size of plots in this notebook\n",
    "options(repr.plot.width=7, repr.plot.height=4)\n",
    "\n",
    "# Plotting USA born winners\n",
    "ggplot(prop_usa_winners, aes(x=decade, y=proportion)) + \n",
    "    geom_line() + \n",
    "    geom_point() + \n",
    "    scale_y_continuous(labels = scales::percent, limits = c(0, 0.5),expand = waiver()) "
   ]
  },
  {
   "cell_type": "markdown",
   "metadata": {
    "dc": {
     "key": "32"
    },
    "deletable": false,
    "editable": false,
    "run_control": {
     "frozen": true
    },
    "tags": [
     "context"
    ]
   },
   "source": [
    "## 5. What is the gender of a typical Nobel Prize winner?\n",
    "<p>So the USA became the dominating winner of the Nobel Prize first in the 1930s and has kept the leading position ever since. But one group that was in the lead from the start, and never seems to let go, are <em>men</em>. Maybe it shouldn't come as a shock that there is some imbalance between how many male and female prize winners there are, but how significant is this imbalance? And is it better or worse within specific prize categories like physics, medicine, literature, etc.?</p>"
   ]
  },
  {
   "cell_type": "code",
   "execution_count": 5,
   "metadata": {
    "dc": {
     "key": "32"
    },
    "tags": [
     "sample_code"
    ]
   },
   "outputs": [
    {
     "name": "stderr",
     "output_type": "stream",
     "text": [
      "Warning message:\n",
      "\"Removed 1 rows containing missing values (geom_path).\"Warning message:\n",
      "\"Removed 1 rows containing missing values (geom_point).\""
     ]
    },
    {
     "data": {
      "image/png": "[encoded data removed]",
      "text/plain": [
       "plot without title"
      ]
     },
     "metadata": {},
     "output_type": "display_data"
    }
   ],
   "source": [
    "# Calculating the proportion of female laureates per decade\n",
    "prop_female_winners <- nobel %>%\n",
    "    mutate(female_winner = sex == \"Female\") %>%\n",
    "    mutate(decade = (year - year %% 10)) %>%\n",
    "    group_by(decade, category) %>%\n",
    "    summarize(proportion = mean(female_winner, na.rm = TRUE))    \n",
    "\n",
    "    \n",
    "\n",
    "# Plotting the proportion of female laureates per decade\n",
    "ggplot(prop_female_winners, aes(x=decade, y=proportion, color=category)) + \n",
    "    geom_line() + \n",
    "    geom_point() + \n",
    "    scale_y_continuous(labels = scales::percent, limits = c(0, 0.5),expand = waiver()) "
   ]
  },
  {
   "cell_type": "markdown",
   "metadata": {
    "dc": {
     "key": "39"
    },
    "deletable": false,
    "editable": false,
    "run_control": {
     "frozen": true
    },
    "tags": [
     "context"
    ]
   },
   "source": [
    "## 6. The first woman to win the Nobel Prize\n",
    "<p>The plot above is a bit messy as the lines are overplotting. But it does show some interesting trends and patterns. Overall the imbalance is pretty large with physics, economics, and chemistry having the largest imbalance. Medicine has a somewhat positive trend, and since the 1990s the literature prize is also now more balanced. The big outlier is the peace prize during the 2010s, but keep in mind that this just covers the years 2010 to 2016.</p>\n",
    "<p>Given this imbalance, who was the first woman to receive a Nobel Prize? And in what category?</p>"
   ]
  },
  {
   "cell_type": "code",
   "execution_count": 6,
   "metadata": {
    "dc": {
     "key": "39"
    },
    "tags": [
     "sample_code"
    ]
   },
   "outputs": [
    {
     "data": {
      "text/html": [
       "<table>\n",
       "<thead><tr><th scope=col>year</th><th scope=col>category</th><th scope=col>prize</th><th scope=col>motivation</th><th scope=col>prize_share</th><th scope=col>laureate_id</th><th scope=col>laureate_type</th><th scope=col>full_name</th><th scope=col>birth_date</th><th scope=col>birth_city</th><th scope=col>birth_country</th><th scope=col>sex</th><th scope=col>organization_name</th><th scope=col>organization_city</th><th scope=col>organization_country</th><th scope=col>death_date</th><th scope=col>death_city</th><th scope=col>death_country</th></tr></thead>\n",
       "<tbody>\n",
       "\t<tr><td>1903                                                                                                                                                          </td><td>Physics                                                                                                                                                       </td><td>The Nobel Prize in Physics 1903                                                                                                                               </td><td>\"in recognition of the extraordinary services they have rendered by their joint researches on the radiation phenomena discovered by Professor Henri Becquerel\"</td><td>1/4                                                                                                                                                           </td><td>6                                                                                                                                                             </td><td>Individual                                                                                                                                                    </td><td>Marie Curie, née Sklodowska                                                                                                                                   </td><td>1867-11-07                                                                                                                                                    </td><td>Warsaw                                                                                                                                                        </td><td>Russian Empire (Poland)                                                                                                                                       </td><td>Female                                                                                                                                                        </td><td>NA                                                                                                                                                            </td><td>NA                                                                                                                                                            </td><td>NA                                                                                                                                                            </td><td>1934-07-04                                                                                                                                                    </td><td>Sallanches                                                                                                                                                    </td><td>France                                                                                                                                                        </td></tr>\n",
       "</tbody>\n",
       "</table>\n"
      ],
      "text/latex": [
       "\\begin{tabular}{r|llllllllllllllllll}\n",
       " year & category & prize & motivation & prize\\_share & laureate\\_id & laureate\\_type & full\\_name & birth\\_date & birth\\_city & birth\\_country & sex & organization\\_name & organization\\_city & organization\\_country & death\\_date & death\\_city & death\\_country\\\\\n",
       "\\hline\n",
       "\t 1903                                                                                                                                                           & Physics                                                                                                                                                        & The Nobel Prize in Physics 1903                                                                                                                                & \"in recognition of the extraordinary services they have rendered by their joint researches on the radiation phenomena discovered by Professor Henri Becquerel\" & 1/4                                                                                                                                                            & 6                                                                                                                                                              & Individual                                                                                                                                                     & Marie Curie, née Sklodowska                                                                                                                                    & 1867-11-07                                                                                                                                                     & Warsaw                                                                                                                                                         & Russian Empire (Poland)                                                                                                                                        & Female                                                                                                                                                         & NA                                                                                                                                                             & NA                                                                                                                                                             & NA                                                                                                                                                             & 1934-07-04                                                                                                                                                     & Sallanches                                                                                                                                                     & France                                                                                                                                                        \\\\\n",
       "\\end{tabular}\n"
      ],
      "text/markdown": [
       "\n",
       "| year | category | prize | motivation | prize_share | laureate_id | laureate_type | full_name | birth_date | birth_city | birth_country | sex | organization_name | organization_city | organization_country | death_date | death_city | death_country |\n",
       "|---|---|---|---|---|---|---|---|---|---|---|---|---|---|---|---|---|---|\n",
       "| 1903                                                                                                                                                           | Physics                                                                                                                                                        | The Nobel Prize in Physics 1903                                                                                                                                | \"in recognition of the extraordinary services they have rendered by their joint researches on the radiation phenomena discovered by Professor Henri Becquerel\" | 1/4                                                                                                                                                            | 6                                                                                                                                                              | Individual                                                                                                                                                     | Marie Curie, née Sklodowska                                                                                                                                    | 1867-11-07                                                                                                                                                     | Warsaw                                                                                                                                                         | Russian Empire (Poland)                                                                                                                                        | Female                                                                                                                                                         | NA                                                                                                                                                             | NA                                                                                                                                                             | NA                                                                                                                                                             | 1934-07-04                                                                                                                                                     | Sallanches                                                                                                                                                     | France                                                                                                                                                         |\n",
       "\n"
      ],
      "text/plain": [
       "  year category prize                          \n",
       "1 1903 Physics  The Nobel Prize in Physics 1903\n",
       "  motivation                                                                                                                                                    \n",
       "1 \"in recognition of the extraordinary services they have rendered by their joint researches on the radiation phenomena discovered by Professor Henri Becquerel\"\n",
       "  prize_share laureate_id laureate_type full_name                   birth_date\n",
       "1 1/4         6           Individual    Marie Curie, née Sklodowska 1867-11-07\n",
       "  birth_city birth_country           sex    organization_name organization_city\n",
       "1 Warsaw     Russian Empire (Poland) Female NA                NA               \n",
       "  organization_country death_date death_city death_country\n",
       "1 NA                   1934-07-04 Sallanches France       "
      ]
     },
     "metadata": {},
     "output_type": "display_data"
    }
   ],
   "source": [
    "# Picking out the first woman to win a Nobel Prize\n",
    "nobel %>%\n",
    "    filter(sex == 'Female') %>%\n",
    "    top_n(1, desc(year))"
   ]
  },
  {
   "cell_type": "markdown",
   "metadata": {
    "dc": {
     "key": "46"
    },
    "deletable": false,
    "editable": false,
    "run_control": {
     "frozen": true
    },
    "tags": [
     "context"
    ]
   },
   "source": [
    "## 7. Repeat laureates\n",
    "<p>For most scientists/writers/activists a Nobel Prize would be the crowning achievement of a long career. But for some people, one is just not enough, and there are few that have gotten it more than once. Who are these lucky few? (Having won no Nobel Prize myself, I'll assume it's just about luck.)</p>"
   ]
  },
  {
   "cell_type": "code",
   "execution_count": 7,
   "metadata": {
    "dc": {
     "key": "46"
    },
    "tags": [
     "sample_code"
    ]
   },
   "outputs": [
    {
     "data": {
      "text/html": [
       "<table>\n",
       "<thead><tr><th scope=col>full_name</th><th scope=col>\"prize\"</th><th scope=col>n</th></tr></thead>\n",
       "<tbody>\n",
       "\t<tr><td>Comité international de la Croix Rouge (International Committee of the Red Cross)</td><td>prize                                                                            </td><td>3                                                                                </td></tr>\n",
       "\t<tr><td>Frederick Sanger                                                                 </td><td>prize                                                                            </td><td>2                                                                                </td></tr>\n",
       "\t<tr><td>John Bardeen                                                                     </td><td>prize                                                                            </td><td>2                                                                                </td></tr>\n",
       "\t<tr><td>Linus Carl Pauling                                                               </td><td>prize                                                                            </td><td>2                                                                                </td></tr>\n",
       "\t<tr><td>Marie Curie, née Sklodowska                                                      </td><td>prize                                                                            </td><td>2                                                                                </td></tr>\n",
       "\t<tr><td>Office of the United Nations High Commissioner for Refugees (UNHCR)              </td><td>prize                                                                            </td><td>2                                                                                </td></tr>\n",
       "</tbody>\n",
       "</table>\n"
      ],
      "text/latex": [
       "\\begin{tabular}{r|lll}\n",
       " full\\_name & \"prize\" & n\\\\\n",
       "\\hline\n",
       "\t Comité international de la Croix Rouge (International Committee of the Red Cross) & prize                                                                             & 3                                                                                \\\\\n",
       "\t Frederick Sanger                                                                  & prize                                                                             & 2                                                                                \\\\\n",
       "\t John Bardeen                                                                      & prize                                                                             & 2                                                                                \\\\\n",
       "\t Linus Carl Pauling                                                                & prize                                                                             & 2                                                                                \\\\\n",
       "\t Marie Curie, née Sklodowska                                                       & prize                                                                             & 2                                                                                \\\\\n",
       "\t Office of the United Nations High Commissioner for Refugees (UNHCR)               & prize                                                                             & 2                                                                                \\\\\n",
       "\\end{tabular}\n"
      ],
      "text/markdown": [
       "\n",
       "| full_name | \"prize\" | n |\n",
       "|---|---|---|\n",
       "| Comité international de la Croix Rouge (International Committee of the Red Cross) | prize                                                                             | 3                                                                                 |\n",
       "| Frederick Sanger                                                                  | prize                                                                             | 2                                                                                 |\n",
       "| John Bardeen                                                                      | prize                                                                             | 2                                                                                 |\n",
       "| Linus Carl Pauling                                                                | prize                                                                             | 2                                                                                 |\n",
       "| Marie Curie, née Sklodowska                                                       | prize                                                                             | 2                                                                                 |\n",
       "| Office of the United Nations High Commissioner for Refugees (UNHCR)               | prize                                                                             | 2                                                                                 |\n",
       "\n"
      ],
      "text/plain": [
       "  full_name                                                                        \n",
       "1 Comité international de la Croix Rouge (International Committee of the Red Cross)\n",
       "2 Frederick Sanger                                                                 \n",
       "3 John Bardeen                                                                     \n",
       "4 Linus Carl Pauling                                                               \n",
       "5 Marie Curie, née Sklodowska                                                      \n",
       "6 Office of the United Nations High Commissioner for Refugees (UNHCR)              \n",
       "  \"prize\" n\n",
       "1 prize   3\n",
       "2 prize   2\n",
       "3 prize   2\n",
       "4 prize   2\n",
       "5 prize   2\n",
       "6 prize   2"
      ]
     },
     "metadata": {},
     "output_type": "display_data"
    }
   ],
   "source": [
    "# Selecting the laureates that have received 2 or more prizes.\n",
    "nobel %>%\n",
    "    group_by(full_name) %>%\n",
    "    count('prize') %>%\n",
    "    filter(n>=2)"
   ]
  },
  {
   "cell_type": "markdown",
   "metadata": {
    "dc": {
     "key": "53"
    },
    "deletable": false,
    "editable": false,
    "run_control": {
     "frozen": true
    },
    "tags": [
     "context"
    ]
   },
   "source": [
    "## 8. How old are you when you get the prize?\n",
    "<p>The list of repeat winners contains some illustrious names! We again meet Marie Curie, who got the prize in physics for discovering radiation and in chemistry for isolating radium and polonium. John Bardeen got it twice in physics for transistors and superconductivity, Frederick Sanger got it twice in chemistry, and Linus Carl Pauling got it first in chemistry and later in peace for his work in promoting nuclear disarmament. We also learn that organizations also get the prize as both the Red Cross and the UNHCR have gotten it twice.</p>\n",
    "<p>But how old are you generally when you get the prize?</p>"
   ]
  },
  {
   "cell_type": "code",
   "execution_count": 8,
   "metadata": {
    "dc": {
     "key": "53"
    },
    "tags": [
     "sample_code"
    ]
   },
   "outputs": [
    {
     "name": "stderr",
     "output_type": "stream",
     "text": [
      "\n",
      "Attaching package: 'lubridate'\n",
      "\n",
      "The following object is masked from 'package:base':\n",
      "\n",
      "    date\n",
      "\n",
      "`geom_smooth()` using method = 'loess' and formula 'y ~ x'\n",
      "Warning message:\n",
      "\"Removed 28 rows containing non-finite values (stat_smooth).\"Warning message:\n",
      "\"Removed 28 rows containing missing values (geom_point).\""
     ]
    },
    {
     "data": {
      "image/png": "[encoded data removed]",
      "text/plain": [
       "plot without title"
      ]
     },
     "metadata": {},
     "output_type": "display_data"
    }
   ],
   "source": [
    "# Loading the lubridate package\n",
    "library(lubridate)\n",
    "\n",
    "# Calculating the age of Nobel Prize winners\n",
    "nobel_age <- nobel %>%\n",
    "    mutate(age = ((year(years(nobel$year))) - year(ymd(birth_date))))\n",
    "\n",
    "# Plotting the age of Nobel Prize winners\n",
    "ggplot(nobel_age, aes(x=year,y=age)) + geom_point() + geom_smooth()"
   ]
  },
  {
   "cell_type": "markdown",
   "metadata": {
    "dc": {
     "key": "60"
    },
    "deletable": false,
    "editable": false,
    "run_control": {
     "frozen": true
    },
    "tags": [
     "context"
    ]
   },
   "source": [
    "## 9. Age differences between prize categories\n",
    "<p>The plot above shows us a lot! We see that people use to be around 55 when they received the price, but nowadays the average is closer to 65. But there is a large spread in the laureates' ages, and while most are 50+, some are very young.</p>\n",
    "<p>We also see that the density of points is much high nowadays than in the early 1900s -- nowadays many more of the prizes are shared, and so there are many more winners. We also see that there was a disruption in awarded prizes around the Second World War (1939 - 1945). </p>\n",
    "<p>Let's look at age trends within different prize categories.</p>"
   ]
  },
  {
   "cell_type": "code",
   "execution_count": 9,
   "metadata": {
    "dc": {
     "key": "60"
    },
    "tags": [
     "sample_code"
    ]
   },
   "outputs": [
    {
     "name": "stderr",
     "output_type": "stream",
     "text": [
      "`geom_smooth()` using method = 'loess' and formula 'y ~ x'\n",
      "Warning message:\n",
      "\"Removed 28 rows containing non-finite values (stat_smooth).\"Warning message:\n",
      "\"Removed 28 rows containing missing values (geom_point).\""
     ]
    },
    {
     "data": {
      "image/png": "[encoded data removed]",
      "text/plain": [
       "plot without title"
      ]
     },
     "metadata": {},
     "output_type": "display_data"
    }
   ],
   "source": [
    "# Same plot as above, but faceted by the category of the Nobel Prize\n",
    "ggplot(nobel_age, aes(x=year,y=age)) + geom_point() + geom_smooth(se = FALSE) + facet_wrap(~ category)"
   ]
  },
  {
   "cell_type": "markdown",
   "metadata": {
    "dc": {
     "key": "67"
    },
    "deletable": false,
    "editable": false,
    "run_control": {
     "frozen": true
    },
    "tags": [
     "context"
    ]
   },
   "source": [
    "## 10. Oldest and youngest winners\n",
    "<p>Another plot with lots of exciting stuff going on! We see that both winners of the chemistry, medicine, and physics prize have gotten older over time. The trend is strongest for physics: the average age used to be below 50, and now it's almost 70. Literature and economics are more stable, and we also see that economics is a newer category. But peace shows an opposite trend where winners are getting younger! </p>\n",
    "<p>In the peace category we also a winner around 2010 that seems exceptionally young. This begs the questions, who are the oldest and youngest people ever to have won a Nobel Prize?</p>"
   ]
  },
  {
   "cell_type": "code",
   "execution_count": 10,
   "metadata": {
    "dc": {
     "key": "67"
    },
    "tags": [
     "sample_code"
    ]
   },
   "outputs": [
    {
     "data": {
      "text/html": [
       "<table>\n",
       "<thead><tr><th scope=col>year</th><th scope=col>category</th><th scope=col>prize</th><th scope=col>motivation</th><th scope=col>prize_share</th><th scope=col>laureate_id</th><th scope=col>laureate_type</th><th scope=col>full_name</th><th scope=col>birth_date</th><th scope=col>birth_city</th><th scope=col>birth_country</th><th scope=col>sex</th><th scope=col>organization_name</th><th scope=col>organization_city</th><th scope=col>organization_country</th><th scope=col>death_date</th><th scope=col>death_city</th><th scope=col>death_country</th><th scope=col>age</th></tr></thead>\n",
       "<tbody>\n",
       "\t<tr><td>2007                                                        </td><td>Economics                                                   </td><td>The Sveriges Riksbank Prize in Economic Sciences 2007       </td><td>\"for having laid the foundations of mechanism design theory\"</td><td>1/3                                                         </td><td>820                                                         </td><td>Individual                                                  </td><td>Leonid Hurwicz                                              </td><td>1917-08-21                                                  </td><td>Moscow                                                      </td><td>Russia                                                      </td><td>Male                                                        </td><td>University of Minnesota                                     </td><td>Minneapolis, MN                                             </td><td>United States of America                                    </td><td>2008-06-24                                                  </td><td>Minneapolis, MN                                             </td><td>United States of America                                    </td><td>90                                                          </td></tr>\n",
       "</tbody>\n",
       "</table>\n"
      ],
      "text/latex": [
       "\\begin{tabular}{r|lllllllllllllllllll}\n",
       " year & category & prize & motivation & prize\\_share & laureate\\_id & laureate\\_type & full\\_name & birth\\_date & birth\\_city & birth\\_country & sex & organization\\_name & organization\\_city & organization\\_country & death\\_date & death\\_city & death\\_country & age\\\\\n",
       "\\hline\n",
       "\t 2007                                                         & Economics                                                    & The Sveriges Riksbank Prize in Economic Sciences 2007        & \"for having laid the foundations of mechanism design theory\" & 1/3                                                          & 820                                                          & Individual                                                   & Leonid Hurwicz                                               & 1917-08-21                                                   & Moscow                                                       & Russia                                                       & Male                                                         & University of Minnesota                                      & Minneapolis, MN                                              & United States of America                                     & 2008-06-24                                                   & Minneapolis, MN                                              & United States of America                                     & 90                                                          \\\\\n",
       "\\end{tabular}\n"
      ],
      "text/markdown": [
       "\n",
       "| year | category | prize | motivation | prize_share | laureate_id | laureate_type | full_name | birth_date | birth_city | birth_country | sex | organization_name | organization_city | organization_country | death_date | death_city | death_country | age |\n",
       "|---|---|---|---|---|---|---|---|---|---|---|---|---|---|---|---|---|---|---|\n",
       "| 2007                                                         | Economics                                                    | The Sveriges Riksbank Prize in Economic Sciences 2007        | \"for having laid the foundations of mechanism design theory\" | 1/3                                                          | 820                                                          | Individual                                                   | Leonid Hurwicz                                               | 1917-08-21                                                   | Moscow                                                       | Russia                                                       | Male                                                         | University of Minnesota                                      | Minneapolis, MN                                              | United States of America                                     | 2008-06-24                                                   | Minneapolis, MN                                              | United States of America                                     | 90                                                           |\n",
       "\n"
      ],
      "text/plain": [
       "  year category  prize                                                \n",
       "1 2007 Economics The Sveriges Riksbank Prize in Economic Sciences 2007\n",
       "  motivation                                                   prize_share\n",
       "1 \"for having laid the foundations of mechanism design theory\" 1/3        \n",
       "  laureate_id laureate_type full_name      birth_date birth_city birth_country\n",
       "1 820         Individual    Leonid Hurwicz 1917-08-21 Moscow     Russia       \n",
       "  sex  organization_name       organization_city organization_country    \n",
       "1 Male University of Minnesota Minneapolis, MN   United States of America\n",
       "  death_date death_city      death_country            age\n",
       "1 2008-06-24 Minneapolis, MN United States of America 90 "
      ]
     },
     "metadata": {},
     "output_type": "display_data"
    },
    {
     "data": {
      "text/html": [
       "<table>\n",
       "<thead><tr><th scope=col>year</th><th scope=col>category</th><th scope=col>prize</th><th scope=col>motivation</th><th scope=col>prize_share</th><th scope=col>laureate_id</th><th scope=col>laureate_type</th><th scope=col>full_name</th><th scope=col>birth_date</th><th scope=col>birth_city</th><th scope=col>birth_country</th><th scope=col>sex</th><th scope=col>organization_name</th><th scope=col>organization_city</th><th scope=col>organization_country</th><th scope=col>death_date</th><th scope=col>death_city</th><th scope=col>death_country</th><th scope=col>age</th></tr></thead>\n",
       "<tbody>\n",
       "\t<tr><td>2014                                                                                                                    </td><td>Peace                                                                                                                   </td><td>The Nobel Peace Prize 2014                                                                                              </td><td>\"for their struggle against the suppression of children and young people and for the right of all children to education\"</td><td>1/2                                                                                                                     </td><td>914                                                                                                                     </td><td>Individual                                                                                                              </td><td>Malala Yousafzai                                                                                                        </td><td>1997-07-12                                                                                                              </td><td>Mingora                                                                                                                 </td><td>Pakistan                                                                                                                </td><td>Female                                                                                                                  </td><td>NA                                                                                                                      </td><td>NA                                                                                                                      </td><td>NA                                                                                                                      </td><td>NA                                                                                                                      </td><td>NA                                                                                                                      </td><td>NA                                                                                                                      </td><td>17                                                                                                                      </td></tr>\n",
       "</tbody>\n",
       "</table>\n"
      ],
      "text/latex": [
       "\\begin{tabular}{r|lllllllllllllllllll}\n",
       " year & category & prize & motivation & prize\\_share & laureate\\_id & laureate\\_type & full\\_name & birth\\_date & birth\\_city & birth\\_country & sex & organization\\_name & organization\\_city & organization\\_country & death\\_date & death\\_city & death\\_country & age\\\\\n",
       "\\hline\n",
       "\t 2014                                                                                                                     & Peace                                                                                                                    & The Nobel Peace Prize 2014                                                                                               & \"for their struggle against the suppression of children and young people and for the right of all children to education\" & 1/2                                                                                                                      & 914                                                                                                                      & Individual                                                                                                               & Malala Yousafzai                                                                                                         & 1997-07-12                                                                                                               & Mingora                                                                                                                  & Pakistan                                                                                                                 & Female                                                                                                                   & NA                                                                                                                       & NA                                                                                                                       & NA                                                                                                                       & NA                                                                                                                       & NA                                                                                                                       & NA                                                                                                                       & 17                                                                                                                      \\\\\n",
       "\\end{tabular}\n"
      ],
      "text/markdown": [
       "\n",
       "| year | category | prize | motivation | prize_share | laureate_id | laureate_type | full_name | birth_date | birth_city | birth_country | sex | organization_name | organization_city | organization_country | death_date | death_city | death_country | age |\n",
       "|---|---|---|---|---|---|---|---|---|---|---|---|---|---|---|---|---|---|---|\n",
       "| 2014                                                                                                                     | Peace                                                                                                                    | The Nobel Peace Prize 2014                                                                                               | \"for their struggle against the suppression of children and young people and for the right of all children to education\" | 1/2                                                                                                                      | 914                                                                                                                      | Individual                                                                                                               | Malala Yousafzai                                                                                                         | 1997-07-12                                                                                                               | Mingora                                                                                                                  | Pakistan                                                                                                                 | Female                                                                                                                   | NA                                                                                                                       | NA                                                                                                                       | NA                                                                                                                       | NA                                                                                                                       | NA                                                                                                                       | NA                                                                                                                       | 17                                                                                                                       |\n",
       "\n"
      ],
      "text/plain": [
       "  year category prize                     \n",
       "1 2014 Peace    The Nobel Peace Prize 2014\n",
       "  motivation                                                                                                              \n",
       "1 \"for their struggle against the suppression of children and young people and for the right of all children to education\"\n",
       "  prize_share laureate_id laureate_type full_name        birth_date birth_city\n",
       "1 1/2         914         Individual    Malala Yousafzai 1997-07-12 Mingora   \n",
       "  birth_country sex    organization_name organization_city organization_country\n",
       "1 Pakistan      Female NA                NA                NA                  \n",
       "  death_date death_city death_country age\n",
       "1 <NA>       NA         NA            17 "
      ]
     },
     "metadata": {},
     "output_type": "display_data"
    }
   ],
   "source": [
    "# The oldest winner of a Nobel Prize as of 2016\n",
    "nobel_age %>% top_n(1,age)\n",
    "\n",
    "# The youngest winner of a Nobel Prize as of 2016\n",
    "nobel_age %>% top_n(1,desc(age))"
   ]
  },
  {
   "cell_type": "markdown",
   "metadata": {
    "dc": {
     "key": "74"
    },
    "deletable": false,
    "editable": false,
    "run_control": {
     "frozen": true
    },
    "tags": [
     "context"
    ]
   },
   "source": [
    "## 11. You get a prize!\n",
    "<p><img style=\"float: right;margin:20px 20px 20px 20px; max-width:200px\" src=\"https://assets.datacamp.com/production/project_309/img/paint_nobel_prize.png\"></p>\n",
    "<p>Hey! You get a prize for making it to the very end of this notebook! It might not be a Nobel Prize, but I made it myself in paint so it should count for something. But don't despair, Leonid Hurwicz was 90 years old when he got his prize, so it might not be too late for you. Who knows.</p>\n",
    "<p>Before you leave, what was again the name of the youngest winner ever who in 2014 got the prize for \"[her] struggle against the suppression of children and young people and for the right of all children to education\"?</p>"
   ]
  },
  {
   "cell_type": "code",
   "execution_count": 11,
   "metadata": {
    "dc": {
     "key": "74"
    },
    "tags": [
     "sample_code"
    ]
   },
   "outputs": [],
   "source": [
    "# The name of the youngest winner of the Nobel Prize as of 2016\n",
    "youngest_winner <- \"Malala Yousafzai\""
   ]
  }
 ],
 "metadata": {
  "kernelspec": {
   "display_name": "R",
   "language": "R",
   "name": "ir"
  },
  "language_info": {
   "codemirror_mode": "r",
   "file_extension": ".r",
   "mimetype": "text/x-r-source",
   "name": "R",
   "pygments_lexer": "r",
   "version": "3.6.1"
  }
 },
 "nbformat": 4,
 "nbformat_minor": 2
}
