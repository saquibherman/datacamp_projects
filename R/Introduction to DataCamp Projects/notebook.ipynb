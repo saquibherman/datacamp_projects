{
 "cells": [
  {
   "cell_type": "markdown",
   "metadata": {
    "dc": {
     "key": "4"
    },
    "deletable": false,
    "editable": false,
    "run_control": {
     "frozen": true
    },
    "tags": [
     "context"
    ]
   },
   "source": [
    "## 1. This is a Jupyter notebook!\n",
    "<p>A <em>Jupyter notebook</em> is a document that contains text cells (what you're reading right now) and code cells. What is special with a notebook is that it's <em>interactive</em>: You can change or add code cells, and then <em>run</em> a cell by first selecting it and then clicking the <em>run cell</em> button above ( <strong>▶|</strong> Run ) or hitting <code>ctrl + enter</code>. </p>\n",
    "<p><img src=\"https://s3.amazonaws.com/assets.datacamp.com/production/project_33/datasets/run_code_cell_image.png\" alt=\"\"></p>\n",
    "<p>The result will be displayed directly in the notebook. You <em>could</em> use a notebook as a simple calculator. For example, it's estimated that on average 256 children were born every minute in 2016. The code cell below calculates how many children were born on average on a day. </p>"
   ]
  },
  {
   "cell_type": "code",
   "execution_count": 1,
   "metadata": {
    "dc": {
     "key": "4"
    },
    "tags": [
     "sample_code"
    ]
   },
   "outputs": [
    {
     "data": {
      "text/html": [
       "368640"
      ],
      "text/latex": [
       "368640"
      ],
      "text/markdown": [
       "368640"
      ],
      "text/plain": [
       "[1] 368640"
      ]
     },
     "metadata": {},
     "output_type": "display_data"
    }
   ],
   "source": [
    "# I'm a code cell, click me, then run me!\n",
    "256 * 60 * 24 # Children × minutes × hours"
   ]
  },
  {
   "cell_type": "markdown",
   "metadata": {
    "dc": {
     "key": "12"
    },
    "deletable": false,
    "editable": false,
    "run_control": {
     "frozen": true
    },
    "tags": [
     "context"
    ]
   },
   "source": [
    "## 2. Put any code in code cells\n",
    "<p>But a code cell can contain much more than a simple one-liner! This is a notebook running R and you can put <em>any</em> R code in a code cell (but notebooks can run other languages too, like python). Below is a code cell where we define a whole new function (<code>greet</code>). To show the output of <code>greet</code> we can run it anywhere and the result is always printed out at the end of the code cell. </p>"
   ]
  },
  {
   "cell_type": "code",
   "execution_count": 2,
   "metadata": {
    "dc": {
     "key": "12"
    },
    "tags": [
     "sample_code"
    ]
   },
   "outputs": [
    {
     "data": {
      "text/html": [
       "'My name is Herman, Saquib Herman!'"
      ],
      "text/latex": [
       "'My name is Herman, Saquib Herman!'"
      ],
      "text/markdown": [
       "'My name is Herman, Saquib Herman!'"
      ],
      "text/plain": [
       "[1] \"My name is Herman, Saquib Herman!\""
      ]
     },
     "metadata": {},
     "output_type": "display_data"
    }
   ],
   "source": [
    "greet <- function(first_name, last_name) {\n",
    "  paste(\"My name is \", last_name, \", \", \n",
    "        first_name, \" \", last_name, \"!\", sep = \"\")\n",
    "}\n",
    "\n",
    "# Replace with your first and last name.\n",
    "# That is, unless your name is already James Bond.\n",
    "greet(\"Saquib\", \"Herman\")"
   ]
  },
  {
   "cell_type": "markdown",
   "metadata": {
    "dc": {
     "key": "19"
    },
    "deletable": false,
    "editable": false,
    "run_control": {
     "frozen": true
    },
    "tags": [
     "context"
    ]
   },
   "source": [
    "## 3. Jupyter notebooks ♡ data\n",
    "<p>We've seen that notebooks can display basic objects such as numbers and strings. But notebooks also support the objects used in data science, which makes them great for interactive data analysis!</p>\n",
    "<p>For example, below we create a data frame by reading in a <code>csv</code>-file with the average global temperature for the years 1850 to 2016. If we look at the <code>head</code> of this data frame the notebook will render it as a nice-looking table.</p>"
   ]
  },
  {
   "cell_type": "code",
   "execution_count": 3,
   "metadata": {
    "dc": {
     "key": "19"
    },
    "tags": [
     "sample_code"
    ]
   },
   "outputs": [
    {
     "data": {
      "text/html": [
       "<table>\n",
       "<thead><tr><th scope=col>year</th><th scope=col>degrees_celsius</th></tr></thead>\n",
       "<tbody>\n",
       "\t<tr><td>1850</td><td>7.74</td></tr>\n",
       "\t<tr><td>1851</td><td>8.09</td></tr>\n",
       "\t<tr><td>1852</td><td>7.97</td></tr>\n",
       "\t<tr><td>1853</td><td>7.93</td></tr>\n",
       "\t<tr><td>1854</td><td>8.19</td></tr>\n",
       "\t<tr><td>1855</td><td>8.12</td></tr>\n",
       "</tbody>\n",
       "</table>\n"
      ],
      "text/latex": [
       "\\begin{tabular}{r|ll}\n",
       " year & degrees\\_celsius\\\\\n",
       "\\hline\n",
       "\t 1850 & 7.74\\\\\n",
       "\t 1851 & 8.09\\\\\n",
       "\t 1852 & 7.97\\\\\n",
       "\t 1853 & 7.93\\\\\n",
       "\t 1854 & 8.19\\\\\n",
       "\t 1855 & 8.12\\\\\n",
       "\\end{tabular}\n"
      ],
      "text/markdown": [
       "\n",
       "| year | degrees_celsius |\n",
       "|---|---|\n",
       "| 1850 | 7.74 |\n",
       "| 1851 | 8.09 |\n",
       "| 1852 | 7.97 |\n",
       "| 1853 | 7.93 |\n",
       "| 1854 | 8.19 |\n",
       "| 1855 | 8.12 |\n",
       "\n"
      ],
      "text/plain": [
       "  year degrees_celsius\n",
       "1 1850 7.74           \n",
       "2 1851 8.09           \n",
       "3 1852 7.97           \n",
       "4 1853 7.93           \n",
       "5 1854 8.19           \n",
       "6 1855 8.12           "
      ]
     },
     "metadata": {},
     "output_type": "display_data"
    }
   ],
   "source": [
    "# Reading in the global temperature data,data\n",
    "global_temp <- read.csv(\"datasets/global_temperature.csv\")\n",
    "\n",
    "# Take a look at the first datapoints\n",
    "head(global_temp)"
   ]
  },
  {
   "cell_type": "markdown",
   "metadata": {
    "dc": {
     "key": "26"
    },
    "deletable": false,
    "editable": false,
    "run_control": {
     "frozen": true
    },
    "tags": [
     "context"
    ]
   },
   "source": [
    "## 4. Jupyter notebooks ♡ plots\n",
    "<p>Tables are nice but — as the saying goes — <em>\"a plot can show a thousand data points\"</em>. Notebooks handle plots as well and all plots created in code cells will automatically be displayed inline. </p>\n",
    "<p>Let's take a look at the global temperature for the last 150 years.</p>"
   ]
  },
  {
   "cell_type": "code",
   "execution_count": 4,
   "metadata": {
    "dc": {
     "key": "26"
    },
    "tags": [
     "sample_code"
    ]
   },
   "outputs": [
    {
     "data": {
      "image/png": "[encoded data removed]",
      "text/plain": [
       "plot without title"
      ]
     },
     "metadata": {},
     "output_type": "display_data"
    }
   ],
   "source": [
    "# Plotting global temperature in degrees celsius by year.\n",
    "plot(global_temp$year, global_temp$degrees_celsius, \n",
    "     type = \"l\", col = \"forestgreen\", \n",
    "     xlab = \"year\", ylab = \"temperature in degrees celsius\")"
   ]
  },
  {
   "cell_type": "markdown",
   "metadata": {
    "dc": {
     "key": "33"
    },
    "deletable": false,
    "editable": false,
    "run_control": {
     "frozen": true
    },
    "tags": [
     "context"
    ]
   },
   "source": [
    "## 5. Jupyter notebooks ♡ Data Science\n",
    "<p>Tables and plots are the most common outputs when doing data science and, as these outputs are rendered inline, notebooks works great not only for <em>doing</em> a data analysis but also for <em>showing</em> a data analysis. A finished notebook contains both the result and the code that produced it. This is useful when you want to share your findings or if you need to update your analysis with new data.</p>\n",
    "<p>Let's add some advanced data analysis to our notebook! For example, this (slightly complicated) code forecasts the global temperature 50 years into the future using an <em>exponential smoothing state space model</em> (<code>ets</code>).</p>\n",
    "<p><em><strong>Note</strong>: Global temperature is a complex phenomenon and exponential smoothing is likely not a good model here. This is just an example of how easy it is to do (and show) complex forecasting in a Jupyter notebook.</em></p>"
   ]
  },
  {
   "cell_type": "code",
   "execution_count": 5,
   "metadata": {
    "dc": {
     "key": "33"
    },
    "tags": [
     "sample_code"
    ]
   },
   "outputs": [
    {
     "ename": "ERROR",
     "evalue": "Error in library(forecast): there is no package called 'forecast'\n",
     "output_type": "error",
     "traceback": [
      "Error in library(forecast): there is no package called 'forecast'\nTraceback:\n",
      "1. library(forecast)"
     ]
    }
   ],
   "source": [
    "library(forecast)\n",
    "library(ggplot2)\n",
    "\n",
    "# Converting global_temp into a time series (ts) object.\n",
    "global_temp_ts <- ts(global_temp$degrees_celsius, \n",
    "                     start = global_temp$year[1])\n",
    "\n",
    "# Forecasting global temperature 50 years into the future \n",
    "# using an exponential smoothing state space model (ets).\n",
    "temperature_forecast <- forecast( ets(global_temp_ts), h = 50)\n",
    "\n",
    "# Plotting the forecast\n",
    "autoplot(temperature_forecast)"
   ]
  },
  {
   "cell_type": "markdown",
   "metadata": {
    "dc": {
     "key": "40"
    },
    "deletable": false,
    "editable": false,
    "run_control": {
     "frozen": true
    },
    "tags": [
     "context"
    ]
   },
   "source": [
    "## 6. Goodbye for now!\n",
    "<p>This was just a short introduction to Jupyter notebooks, an open source technology that is increasingly used for data science and analysis. I hope you enjoyed it! :)</p>"
   ]
  },
  {
   "cell_type": "code",
   "execution_count": 6,
   "metadata": {
    "dc": {
     "key": "40"
    },
    "tags": [
     "sample_code"
    ]
   },
   "outputs": [],
   "source": [
    "# Are you ready to get started with  DataCamp projects?\n",
    "I_am_ready <- TRUE\n",
    "\n",
    "# Ps. \n",
    "# Feel free to try out any other stuff in this notebook. \n",
    "# It's all yours!"
   ]
  }
 ],
 "metadata": {
  "kernelspec": {
   "display_name": "R",
   "language": "R",
   "name": "ir"
  },
  "language_info": {
   "codemirror_mode": "r",
   "file_extension": ".r",
   "mimetype": "text/x-r-source",
   "name": "R",
   "pygments_lexer": "r",
   "version": "3.6.1"
  }
 },
 "nbformat": 4,
 "nbformat_minor": 2
}
