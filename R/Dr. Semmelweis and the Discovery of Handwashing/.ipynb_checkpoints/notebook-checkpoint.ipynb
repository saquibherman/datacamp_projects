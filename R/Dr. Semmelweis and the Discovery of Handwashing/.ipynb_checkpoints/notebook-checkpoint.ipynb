{
 "cells": [
  {
   "cell_type": "markdown",
   "metadata": {
    "dc": {
     "key": "3"
    },
    "deletable": false,
    "editable": false,
    "run_control": {
     "frozen": true
    },
    "tags": [
     "context"
    ]
   },
   "source": [
    "## 1. Meet Dr. Ignaz Semmelweis\n",
    "<p><img style=\"float: left;margin:5px 20px 5px 1px\" src=\"https://assets.datacamp.com/production/project_49/img/ignaz_semmelweis_1860.jpeg\"></p>\n",
    "<!--\n",
    "<img style=\"float: left;margin:5px 20px 5px 1px\" src=\"https://assets.datacamp.com/production/project_49/datasets/ignaz_semmelweis_1860.jpeg\">\n",
    "-->\n",
    "<p>This is Dr. Ignaz Semmelweis, a Hungarian physician born in 1818 and active at the Vienna General Hospital. If Dr. Semmelweis looks troubled it's probably because he's thinking about <em>childbed fever</em>: A deadly disease affecting women that just have given birth. He is thinking about it because in the early 1840s at the Vienna General Hospital as many as 10% of the women giving birth die from it. He is thinking about it because he knows the cause of childbed fever: It's the contaminated hands of the doctors delivering the babies. And they won't listen to him and <em>wash their hands</em>!</p>\n",
    "<p>In this notebook, we're going to reanalyze the data that made Semmelweis discover the importance of <em>handwashing</em>. Let's start by looking at the data that made Semmelweis realize that something was wrong with the procedures at Vienna General Hospital.</p>"
   ]
  },
  {
   "cell_type": "code",
   "execution_count": 1,
   "metadata": {
    "dc": {
     "key": "3"
    },
    "tags": [
     "sample_code"
    ]
   },
   "outputs": [
    {
     "name": "stderr",
     "output_type": "stream",
     "text": [
      "-- Attaching packages --------------------------------------- tidyverse 1.2.1 --\n",
      "v ggplot2 3.2.1     v purrr   0.3.3\n",
      "v tibble  2.1.3     v dplyr   0.8.3\n",
      "v tidyr   1.0.0     v stringr 1.4.0\n",
      "v readr   1.3.1     v forcats 0.4.0\n",
      "Warning message:\n",
      "\"package 'purrr' was built under R version 3.6.2\"-- Conflicts ------------------------------------------ tidyverse_conflicts() --\n",
      "x dplyr::filter() masks stats::filter()\n",
      "x dplyr::lag()    masks stats::lag()\n",
      "Parsed with column specification:\n",
      "cols(\n",
      "  year = col_double(),\n",
      "  births = col_double(),\n",
      "  deaths = col_double(),\n",
      "  clinic = col_character()\n",
      ")\n"
     ]
    },
    {
     "data": {
      "text/html": [
       "<table>\n",
       "<thead><tr><th scope=col>year</th><th scope=col>births</th><th scope=col>deaths</th><th scope=col>clinic</th></tr></thead>\n",
       "<tbody>\n",
       "\t<tr><td>1841    </td><td>3036    </td><td>237     </td><td>clinic 1</td></tr>\n",
       "\t<tr><td>1842    </td><td>3287    </td><td>518     </td><td>clinic 1</td></tr>\n",
       "\t<tr><td>1843    </td><td>3060    </td><td>274     </td><td>clinic 1</td></tr>\n",
       "\t<tr><td>1844    </td><td>3157    </td><td>260     </td><td>clinic 1</td></tr>\n",
       "\t<tr><td>1845    </td><td>3492    </td><td>241     </td><td>clinic 1</td></tr>\n",
       "\t<tr><td>1846    </td><td>4010    </td><td>459     </td><td>clinic 1</td></tr>\n",
       "\t<tr><td>1841    </td><td>2442    </td><td> 86     </td><td>clinic 2</td></tr>\n",
       "\t<tr><td>1842    </td><td>2659    </td><td>202     </td><td>clinic 2</td></tr>\n",
       "\t<tr><td>1843    </td><td>2739    </td><td>164     </td><td>clinic 2</td></tr>\n",
       "\t<tr><td>1844    </td><td>2956    </td><td> 68     </td><td>clinic 2</td></tr>\n",
       "\t<tr><td>1845    </td><td>3241    </td><td> 66     </td><td>clinic 2</td></tr>\n",
       "\t<tr><td>1846    </td><td>3754    </td><td>105     </td><td>clinic 2</td></tr>\n",
       "</tbody>\n",
       "</table>\n"
      ],
      "text/latex": [
       "\\begin{tabular}{r|llll}\n",
       " year & births & deaths & clinic\\\\\n",
       "\\hline\n",
       "\t 1841     & 3036     & 237      & clinic 1\\\\\n",
       "\t 1842     & 3287     & 518      & clinic 1\\\\\n",
       "\t 1843     & 3060     & 274      & clinic 1\\\\\n",
       "\t 1844     & 3157     & 260      & clinic 1\\\\\n",
       "\t 1845     & 3492     & 241      & clinic 1\\\\\n",
       "\t 1846     & 4010     & 459      & clinic 1\\\\\n",
       "\t 1841     & 2442     &  86      & clinic 2\\\\\n",
       "\t 1842     & 2659     & 202      & clinic 2\\\\\n",
       "\t 1843     & 2739     & 164      & clinic 2\\\\\n",
       "\t 1844     & 2956     &  68      & clinic 2\\\\\n",
       "\t 1845     & 3241     &  66      & clinic 2\\\\\n",
       "\t 1846     & 3754     & 105      & clinic 2\\\\\n",
       "\\end{tabular}\n"
      ],
      "text/markdown": [
       "\n",
       "| year | births | deaths | clinic |\n",
       "|---|---|---|---|\n",
       "| 1841     | 3036     | 237      | clinic 1 |\n",
       "| 1842     | 3287     | 518      | clinic 1 |\n",
       "| 1843     | 3060     | 274      | clinic 1 |\n",
       "| 1844     | 3157     | 260      | clinic 1 |\n",
       "| 1845     | 3492     | 241      | clinic 1 |\n",
       "| 1846     | 4010     | 459      | clinic 1 |\n",
       "| 1841     | 2442     |  86      | clinic 2 |\n",
       "| 1842     | 2659     | 202      | clinic 2 |\n",
       "| 1843     | 2739     | 164      | clinic 2 |\n",
       "| 1844     | 2956     |  68      | clinic 2 |\n",
       "| 1845     | 3241     |  66      | clinic 2 |\n",
       "| 1846     | 3754     | 105      | clinic 2 |\n",
       "\n"
      ],
      "text/plain": [
       "   year births deaths clinic  \n",
       "1  1841 3036   237    clinic 1\n",
       "2  1842 3287   518    clinic 1\n",
       "3  1843 3060   274    clinic 1\n",
       "4  1844 3157   260    clinic 1\n",
       "5  1845 3492   241    clinic 1\n",
       "6  1846 4010   459    clinic 1\n",
       "7  1841 2442    86    clinic 2\n",
       "8  1842 2659   202    clinic 2\n",
       "9  1843 2739   164    clinic 2\n",
       "10 1844 2956    68    clinic 2\n",
       "11 1845 3241    66    clinic 2\n",
       "12 1846 3754   105    clinic 2"
      ]
     },
     "metadata": {},
     "output_type": "display_data"
    }
   ],
   "source": [
    "# Load in the tidyverse package\n",
    "library(tidyverse)\n",
    "\n",
    "# Read datasets/yearly_deaths_by_clinic.csv into yearly\n",
    "yearly <- read_csv(\"datasets/yearly_deaths_by_clinic.csv\")\n",
    "\n",
    "# Print out yearly\n",
    "yearly"
   ]
  },
  {
   "cell_type": "markdown",
   "metadata": {
    "dc": {
     "key": "45ea098e15"
    },
    "deletable": false,
    "editable": false,
    "run_control": {
     "frozen": true
    },
    "tags": [
     "context"
    ]
   },
   "source": [
    "## 2. The alarming number of deaths\n",
    "<p>The table above shows the number of women giving birth at the two clinics at the Vienna General Hospital for the years 1841 to 1846. You'll notice that giving birth was very dangerous; an <em>alarming</em> number of women died as the result of childbirth, most of them from childbed fever.</p>\n",
    "<p>We see this more clearly if we look at the <em>proportion of deaths</em> out of the number of women giving birth. </p>"
   ]
  },
  {
   "cell_type": "code",
   "execution_count": 2,
   "metadata": {
    "dc": {
     "key": "45ea098e15"
    },
    "tags": [
     "sample_code"
    ]
   },
   "outputs": [
    {
     "data": {
      "text/html": [
       "<table>\n",
       "<thead><tr><th scope=col>year</th><th scope=col>births</th><th scope=col>deaths</th><th scope=col>clinic</th><th scope=col>proportion_deaths</th></tr></thead>\n",
       "<tbody>\n",
       "\t<tr><td>1841      </td><td>3036      </td><td>237       </td><td>clinic 1  </td><td>0.07806324</td></tr>\n",
       "\t<tr><td>1842      </td><td>3287      </td><td>518       </td><td>clinic 1  </td><td>0.15759051</td></tr>\n",
       "\t<tr><td>1843      </td><td>3060      </td><td>274       </td><td>clinic 1  </td><td>0.08954248</td></tr>\n",
       "\t<tr><td>1844      </td><td>3157      </td><td>260       </td><td>clinic 1  </td><td>0.08235667</td></tr>\n",
       "\t<tr><td>1845      </td><td>3492      </td><td>241       </td><td>clinic 1  </td><td>0.06901489</td></tr>\n",
       "\t<tr><td>1846      </td><td>4010      </td><td>459       </td><td>clinic 1  </td><td>0.11446384</td></tr>\n",
       "\t<tr><td>1841      </td><td>2442      </td><td> 86       </td><td>clinic 2  </td><td>0.03521704</td></tr>\n",
       "\t<tr><td>1842      </td><td>2659      </td><td>202       </td><td>clinic 2  </td><td>0.07596841</td></tr>\n",
       "\t<tr><td>1843      </td><td>2739      </td><td>164       </td><td>clinic 2  </td><td>0.05987587</td></tr>\n",
       "\t<tr><td>1844      </td><td>2956      </td><td> 68       </td><td>clinic 2  </td><td>0.02300406</td></tr>\n",
       "\t<tr><td>1845      </td><td>3241      </td><td> 66       </td><td>clinic 2  </td><td>0.02036409</td></tr>\n",
       "\t<tr><td>1846      </td><td>3754      </td><td>105       </td><td>clinic 2  </td><td>0.02797017</td></tr>\n",
       "</tbody>\n",
       "</table>\n"
      ],
      "text/latex": [
       "\\begin{tabular}{r|lllll}\n",
       " year & births & deaths & clinic & proportion\\_deaths\\\\\n",
       "\\hline\n",
       "\t 1841       & 3036       & 237        & clinic 1   & 0.07806324\\\\\n",
       "\t 1842       & 3287       & 518        & clinic 1   & 0.15759051\\\\\n",
       "\t 1843       & 3060       & 274        & clinic 1   & 0.08954248\\\\\n",
       "\t 1844       & 3157       & 260        & clinic 1   & 0.08235667\\\\\n",
       "\t 1845       & 3492       & 241        & clinic 1   & 0.06901489\\\\\n",
       "\t 1846       & 4010       & 459        & clinic 1   & 0.11446384\\\\\n",
       "\t 1841       & 2442       &  86        & clinic 2   & 0.03521704\\\\\n",
       "\t 1842       & 2659       & 202        & clinic 2   & 0.07596841\\\\\n",
       "\t 1843       & 2739       & 164        & clinic 2   & 0.05987587\\\\\n",
       "\t 1844       & 2956       &  68        & clinic 2   & 0.02300406\\\\\n",
       "\t 1845       & 3241       &  66        & clinic 2   & 0.02036409\\\\\n",
       "\t 1846       & 3754       & 105        & clinic 2   & 0.02797017\\\\\n",
       "\\end{tabular}\n"
      ],
      "text/markdown": [
       "\n",
       "| year | births | deaths | clinic | proportion_deaths |\n",
       "|---|---|---|---|---|\n",
       "| 1841       | 3036       | 237        | clinic 1   | 0.07806324 |\n",
       "| 1842       | 3287       | 518        | clinic 1   | 0.15759051 |\n",
       "| 1843       | 3060       | 274        | clinic 1   | 0.08954248 |\n",
       "| 1844       | 3157       | 260        | clinic 1   | 0.08235667 |\n",
       "| 1845       | 3492       | 241        | clinic 1   | 0.06901489 |\n",
       "| 1846       | 4010       | 459        | clinic 1   | 0.11446384 |\n",
       "| 1841       | 2442       |  86        | clinic 2   | 0.03521704 |\n",
       "| 1842       | 2659       | 202        | clinic 2   | 0.07596841 |\n",
       "| 1843       | 2739       | 164        | clinic 2   | 0.05987587 |\n",
       "| 1844       | 2956       |  68        | clinic 2   | 0.02300406 |\n",
       "| 1845       | 3241       |  66        | clinic 2   | 0.02036409 |\n",
       "| 1846       | 3754       | 105        | clinic 2   | 0.02797017 |\n",
       "\n"
      ],
      "text/plain": [
       "   year births deaths clinic   proportion_deaths\n",
       "1  1841 3036   237    clinic 1 0.07806324       \n",
       "2  1842 3287   518    clinic 1 0.15759051       \n",
       "3  1843 3060   274    clinic 1 0.08954248       \n",
       "4  1844 3157   260    clinic 1 0.08235667       \n",
       "5  1845 3492   241    clinic 1 0.06901489       \n",
       "6  1846 4010   459    clinic 1 0.11446384       \n",
       "7  1841 2442    86    clinic 2 0.03521704       \n",
       "8  1842 2659   202    clinic 2 0.07596841       \n",
       "9  1843 2739   164    clinic 2 0.05987587       \n",
       "10 1844 2956    68    clinic 2 0.02300406       \n",
       "11 1845 3241    66    clinic 2 0.02036409       \n",
       "12 1846 3754   105    clinic 2 0.02797017       "
      ]
     },
     "metadata": {},
     "output_type": "display_data"
    }
   ],
   "source": [
    "# Adding a new column to yearly with proportion of deaths per no. births\n",
    "yearly <- yearly %>%\n",
    "    mutate(proportion_deaths = deaths/births)\n",
    "\n",
    "# Print out yearly\n",
    "yearly"
   ]
  },
  {
   "cell_type": "markdown",
   "metadata": {
    "dc": {
     "key": "2bc9206960"
    },
    "deletable": false,
    "editable": false,
    "run_control": {
     "frozen": true
    },
    "tags": [
     "context"
    ]
   },
   "source": [
    "## 3. Death at the clinics\n",
    "<p>If we now plot the proportion of deaths at both clinic 1 and clinic 2  we'll see a curious pattern...</p>"
   ]
  },
  {
   "cell_type": "code",
   "execution_count": 3,
   "metadata": {
    "dc": {
     "key": "2bc9206960"
    },
    "tags": [
     "sample_code"
    ]
   },
   "outputs": [
    {
     "data": {
      "image/png": "[encoded data removed]",
      "text/plain": [
       "plot without title"
      ]
     },
     "metadata": {},
     "output_type": "display_data"
    }
   ],
   "source": [
    "# Setting the size of plots in this notebook\n",
    "options(repr.plot.width=7, repr.plot.height=4)\n",
    "\n",
    "# Plot yearly proportion of deaths at the two clinics\n",
    "ggplot(yearly, aes(x=year,y=proportion_deaths, color=clinic)) + geom_line()"
   ]
  },
  {
   "cell_type": "markdown",
   "metadata": {
    "dc": {
     "key": "0c9fdbf550"
    },
    "deletable": false,
    "editable": false,
    "run_control": {
     "frozen": true
    },
    "tags": [
     "context"
    ]
   },
   "source": [
    "## 4. The handwashing begins\n",
    "<p>Why is the proportion of deaths constantly so much higher in Clinic 1? Semmelweis saw the same pattern and was puzzled and distressed. The only difference between the clinics was that many medical students served at Clinic 1, while mostly midwife students served at Clinic 2. While the midwives only tended to the women giving birth, the medical students also spent time in the autopsy rooms examining corpses. </p>\n",
    "<p>Semmelweis started to suspect that something on the corpses, spread from the hands of the medical students, caused childbed fever. So in a desperate attempt to stop the high mortality rates, he decreed: <em>Wash your hands!</em> This was an unorthodox and controversial request, nobody in Vienna knew about bacteria at this point in time. </p>\n",
    "<p>Let's load in monthly data from Clinic 1 to see if the handwashing had any effect.</p>"
   ]
  },
  {
   "cell_type": "code",
   "execution_count": 4,
   "metadata": {
    "dc": {
     "key": "0c9fdbf550"
    },
    "tags": [
     "sample_code"
    ]
   },
   "outputs": [
    {
     "name": "stderr",
     "output_type": "stream",
     "text": [
      "Parsed with column specification:\n",
      "cols(\n",
      "  date = col_date(format = \"\"),\n",
      "  births = col_double(),\n",
      "  deaths = col_double()\n",
      ")\n"
     ]
    },
    {
     "data": {
      "text/html": [
       "<table>\n",
       "<thead><tr><th scope=col>date</th><th scope=col>births</th><th scope=col>deaths</th><th scope=col>proportion_deaths</th></tr></thead>\n",
       "<tbody>\n",
       "\t<tr><td>1841-01-01 </td><td>254        </td><td>37         </td><td>0.145669291</td></tr>\n",
       "\t<tr><td>1841-02-01 </td><td>239        </td><td>18         </td><td>0.075313808</td></tr>\n",
       "\t<tr><td>1841-03-01 </td><td>277        </td><td>12         </td><td>0.043321300</td></tr>\n",
       "\t<tr><td>1841-04-01 </td><td>255        </td><td> 4         </td><td>0.015686275</td></tr>\n",
       "\t<tr><td>1841-05-01 </td><td>255        </td><td> 2         </td><td>0.007843137</td></tr>\n",
       "\t<tr><td>1841-06-01 </td><td>200        </td><td>10         </td><td>0.050000000</td></tr>\n",
       "</tbody>\n",
       "</table>\n"
      ],
      "text/latex": [
       "\\begin{tabular}{r|llll}\n",
       " date & births & deaths & proportion\\_deaths\\\\\n",
       "\\hline\n",
       "\t 1841-01-01  & 254         & 37          & 0.145669291\\\\\n",
       "\t 1841-02-01  & 239         & 18          & 0.075313808\\\\\n",
       "\t 1841-03-01  & 277         & 12          & 0.043321300\\\\\n",
       "\t 1841-04-01  & 255         &  4          & 0.015686275\\\\\n",
       "\t 1841-05-01  & 255         &  2          & 0.007843137\\\\\n",
       "\t 1841-06-01  & 200         & 10          & 0.050000000\\\\\n",
       "\\end{tabular}\n"
      ],
      "text/markdown": [
       "\n",
       "| date | births | deaths | proportion_deaths |\n",
       "|---|---|---|---|\n",
       "| 1841-01-01  | 254         | 37          | 0.145669291 |\n",
       "| 1841-02-01  | 239         | 18          | 0.075313808 |\n",
       "| 1841-03-01  | 277         | 12          | 0.043321300 |\n",
       "| 1841-04-01  | 255         |  4          | 0.015686275 |\n",
       "| 1841-05-01  | 255         |  2          | 0.007843137 |\n",
       "| 1841-06-01  | 200         | 10          | 0.050000000 |\n",
       "\n"
      ],
      "text/plain": [
       "  date       births deaths proportion_deaths\n",
       "1 1841-01-01 254    37     0.145669291      \n",
       "2 1841-02-01 239    18     0.075313808      \n",
       "3 1841-03-01 277    12     0.043321300      \n",
       "4 1841-04-01 255     4     0.015686275      \n",
       "5 1841-05-01 255     2     0.007843137      \n",
       "6 1841-06-01 200    10     0.050000000      "
      ]
     },
     "metadata": {},
     "output_type": "display_data"
    }
   ],
   "source": [
    "# Read datasets/monthly_deaths.csv into monthly\n",
    "monthly <- read_csv('datasets/monthly_deaths.csv')\n",
    "\n",
    "# Adding a new column with proportion of deaths per no. births\n",
    "monthly <- monthly %>%\n",
    "                mutate(proportion_deaths = deaths/births)\n",
    "\n",
    "# Print out the first rows in monthly\n",
    "head(monthly)"
   ]
  },
  {
   "cell_type": "markdown",
   "metadata": {
    "dc": {
     "key": "2da2a84119"
    },
    "deletable": false,
    "editable": false,
    "run_control": {
     "frozen": true
    },
    "tags": [
     "context"
    ]
   },
   "source": [
    "## 5. The effect of handwashing\n",
    "<p>With the data loaded we can now look at the proportion of deaths over time. In the plot below we haven't marked where obligatory handwashing started, but it reduced the proportion of deaths to such a degree that you should be able to spot it!</p>"
   ]
  },
  {
   "cell_type": "code",
   "execution_count": 5,
   "metadata": {
    "dc": {
     "key": "2da2a84119"
    },
    "tags": [
     "sample_code"
    ]
   },
   "outputs": [
    {
     "data": {
      "image/png": "[encoded data removed]",
      "text/plain": [
       "plot without title"
      ]
     },
     "metadata": {},
     "output_type": "display_data"
    }
   ],
   "source": [
    "# Plot monthly proportion of deaths\n",
    "ggplot(monthly, aes(x=date,y=proportion_deaths)) + geom_line()+ labs(x='Date', y='Proportion Deaths')"
   ]
  },
  {
   "cell_type": "markdown",
   "metadata": {
    "dc": {
     "key": "518e95acc5"
    },
    "deletable": false,
    "editable": false,
    "run_control": {
     "frozen": true
    },
    "tags": [
     "context"
    ]
   },
   "source": [
    "## 6. The effect of handwashing highlighted\n",
    "<p>Starting from the summer of 1847 the proportion of deaths is drastically reduced and, yes, this was when Semmelweis made handwashing obligatory. </p>\n",
    "<p>The effect of handwashing is made even more clear if we highlight this in the graph.</p>"
   ]
  },
  {
   "cell_type": "code",
   "execution_count": 6,
   "metadata": {
    "dc": {
     "key": "518e95acc5"
    },
    "tags": [
     "sample_code"
    ]
   },
   "outputs": [
    {
     "data": {
      "image/png": "[encoded data removed]",
      "text/plain": [
       "plot without title"
      ]
     },
     "metadata": {},
     "output_type": "display_data"
    }
   ],
   "source": [
    "# From this date handwashing was made mandatory\n",
    "handwashing_start = as.Date('1847-06-01')\n",
    "\n",
    "# Add a TRUE/FALSE column to monthly called handwashing_started\n",
    "monthly <- monthly %>%\n",
    "              mutate(handwashing_started = date >= handwashing_start)\n",
    "\n",
    "# Plot monthly proportion of deaths before and after handwashing\n",
    "ggplot(monthly, aes(x=date,y=proportion_deaths, color=handwashing_started)) + geom_line()+ labs(x='Date', y='Proportion Deaths')"
   ]
  },
  {
   "cell_type": "markdown",
   "metadata": {
    "dc": {
     "key": "586a9f9803"
    },
    "deletable": false,
    "editable": false,
    "run_control": {
     "frozen": true
    },
    "tags": [
     "context"
    ]
   },
   "source": [
    "## 7. More handwashing, fewer deaths?\n",
    "<p>Again, the graph shows that handwashing had a huge effect. How much did it reduce the monthly proportion of deaths on average?</p>"
   ]
  },
  {
   "cell_type": "code",
   "execution_count": 7,
   "metadata": {
    "dc": {
     "key": "586a9f9803"
    },
    "tags": [
     "sample_code"
    ]
   },
   "outputs": [
    {
     "data": {
      "text/html": [
       "<table>\n",
       "<thead><tr><th scope=col>handwashing_started</th><th scope=col>mean_proportion_deaths</th></tr></thead>\n",
       "<tbody>\n",
       "\t<tr><td>FALSE     </td><td>0.10504998</td></tr>\n",
       "\t<tr><td> TRUE     </td><td>0.02109338</td></tr>\n",
       "</tbody>\n",
       "</table>\n"
      ],
      "text/latex": [
       "\\begin{tabular}{r|ll}\n",
       " handwashing\\_started & mean\\_proportion\\_deaths\\\\\n",
       "\\hline\n",
       "\t FALSE      & 0.10504998\\\\\n",
       "\t  TRUE      & 0.02109338\\\\\n",
       "\\end{tabular}\n"
      ],
      "text/markdown": [
       "\n",
       "| handwashing_started | mean_proportion_deaths |\n",
       "|---|---|\n",
       "| FALSE      | 0.10504998 |\n",
       "|  TRUE      | 0.02109338 |\n",
       "\n"
      ],
      "text/plain": [
       "  handwashing_started mean_proportion_deaths\n",
       "1 FALSE               0.10504998            \n",
       "2  TRUE               0.02109338            "
      ]
     },
     "metadata": {},
     "output_type": "display_data"
    }
   ],
   "source": [
    "# Calculating the mean proportion of deaths \n",
    "# before and after handwashing.\n",
    "\n",
    "monthly_summary <- monthly %>%\n",
    "                    group_by(handwashing_started) %>%\n",
    "                    summarise(mean_proportion_deaths = mean(deaths/births))\n",
    "                    \n",
    "\n",
    "# Printing out the summary.\n",
    "monthly_summary"
   ]
  },
  {
   "cell_type": "markdown",
   "metadata": {
    "dc": {
     "key": "d8ff65292a"
    },
    "deletable": false,
    "editable": false,
    "run_control": {
     "frozen": true
    },
    "tags": [
     "context"
    ]
   },
   "source": [
    "## 8. A statistical analysis of Semmelweis handwashing data\n",
    "<p>It reduced the proportion of deaths by around 8 percentage points! From 10% on average before handwashing to just 2% when handwashing was enforced (which is still a high number by modern standards). \n",
    "To get a feeling for the uncertainty around how much handwashing reduces mortalities we could look at a confidence interval (here calculated using a t-test).</p>"
   ]
  },
  {
   "cell_type": "code",
   "execution_count": 8,
   "metadata": {
    "dc": {
     "key": "d8ff65292a"
    },
    "tags": [
     "sample_code"
    ]
   },
   "outputs": [
    {
     "data": {
      "text/plain": [
       "\n",
       "\tWelch Two Sample t-test\n",
       "\n",
       "data:  proportion_deaths by handwashing_started\n",
       "t = 9.6101, df = 92.435, p-value = 1.445e-15\n",
       "alternative hypothesis: true difference in means is not equal to 0\n",
       "95 percent confidence interval:\n",
       " 0.06660662 0.10130659\n",
       "sample estimates:\n",
       "mean in group FALSE  mean in group TRUE \n",
       "         0.10504998          0.02109338 \n"
      ]
     },
     "metadata": {},
     "output_type": "display_data"
    }
   ],
   "source": [
    "# Calculating a 95% Confidence intrerval using t.test \n",
    "test_result <- t.test( proportion_deaths ~ handwashing_started, data = monthly)\n",
    "test_result"
   ]
  },
  {
   "cell_type": "markdown",
   "metadata": {
    "dc": {
     "key": "0645423069"
    },
    "deletable": false,
    "editable": false,
    "run_control": {
     "frozen": true
    },
    "tags": [
     "context"
    ]
   },
   "source": [
    "## 9. The fate of Dr. Semmelweis\n",
    "<p>That the doctors didn't wash their hands increased the proportion of deaths by between 6.7 and 10 percentage points, according to a 95% confidence interval. All in all, it would seem that Semmelweis had solid evidence that handwashing was a simple but highly effective procedure that could save many lives.</p>\n",
    "<p>The tragedy is that, despite the evidence, Semmelweis' theory — that childbed fever was caused by some \"substance\" (what we today know as <em>bacteria</em>) from autopsy room corpses — was ridiculed by contemporary scientists. The medical community largely rejected his discovery and in 1849 he was forced to leave the Vienna General Hospital for good.</p>\n",
    "<p>One reason for this was that statistics and statistical arguments were uncommon in medical science in the 1800s. Semmelweis only published his data as long tables of raw data, but he didn't show any graphs nor confidence intervals. If he would have had access to the analysis we've just put together he might have been more successful in getting the Viennese doctors to wash their hands.</p>"
   ]
  },
  {
   "cell_type": "code",
   "execution_count": 9,
   "metadata": {
    "dc": {
     "key": "0645423069"
    },
    "tags": [
     "sample_code"
    ]
   },
   "outputs": [],
   "source": [
    "# The data Semmelweis collected points to that:\n",
    "doctors_should_wash_their_hands <- TRUE"
   ]
  }
 ],
 "metadata": {
  "kernelspec": {
   "display_name": "R",
   "language": "R",
   "name": "ir"
  },
  "language_info": {
   "codemirror_mode": "r",
   "file_extension": ".r",
   "mimetype": "text/x-r-source",
   "name": "R",
   "pygments_lexer": "r",
   "version": "3.6.1"
  }
 },
 "nbformat": 4,
 "nbformat_minor": 2
}
